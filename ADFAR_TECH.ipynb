{
 "cells": [
  {
   "cell_type": "code",
   "execution_count": 232,
   "id": "e809d410",
   "metadata": {},
   "outputs": [],
   "source": [
    "#Import Packages\n",
    "from selenium import webdriver\n",
    "import time\n",
    "import pandas as pd\n",
    "import os\n",
    "\n",
    "\n",
    "from selenium.webdriver.support.select import Select\n",
    "from selenium.webdriver.support.ui import WebDriverWait\n",
    "from selenium.webdriver.common.by import By\n",
    "from selenium.webdriver.support import expected_conditions as EC"
   ]
  },
  {
   "cell_type": "code",
   "execution_count": 233,
   "id": "eae5d211",
   "metadata": {},
   "outputs": [
    {
     "name": "stderr",
     "output_type": "stream",
     "text": [
      "C:\\Users\\Lenovo\\AppData\\Local\\Temp\\ipykernel_31476\\4180080689.py:3: DeprecationWarning: executable_path has been deprecated, please pass in a Service object\n",
      "  driver = webdriver.Chrome(executable_path=r'C:\\\\Users\\\\Lenovo\\\\Downloads\\\\chromedriver-win64 (1)\\\\chromedriver-win64\\\\chromedriver.exe')\n"
     ]
    }
   ],
   "source": [
    "#Load the web driver and get the url\n",
    "\n",
    "driver = webdriver.Chrome(executable_path=r'C:\\\\Users\\\\Lenovo\\\\Downloads\\\\chromedriver-win64 (1)\\\\chromedriver-win64\\\\chromedriver.exe')\n",
    "driver.implicitly_wait(10)\n"
   ]
  },
  {
   "cell_type": "code",
   "execution_count": 234,
   "id": "adcd6c9e",
   "metadata": {},
   "outputs": [],
   "source": [
    "url='https://in.linkedin.com/jobs/software-engineer-jobs'\n",
    "driver.get(url)"
   ]
  },
  {
   "cell_type": "code",
   "execution_count": 235,
   "id": "5f21c121",
   "metadata": {},
   "outputs": [],
   "source": [
    "i=1\n",
    "while i<20 :\n",
    "    try:\n",
    "        send=driver.find_element(By.XPATH,'//*[@id=\"main-content\"]/section[2]/button')\n",
    "        if len(send.text)>0:\n",
    "            driver.execute_script(\"arguments[0].click();\", send)\n",
    "            i=i+1\n",
    "            time.sleep(3)\n",
    "            \n",
    "        else:\n",
    "            driver.execute_script(\"window.scrollTo(0, document.body.scrollHeight);\")\n",
    "            driver.execute_script(\"window.scrollBy(0,-50)\")\n",
    "            time.sleep(2)\n",
    "    except:\n",
    "        pass\n",
    "        time.sleep(5)"
   ]
  },
  {
   "cell_type": "code",
   "execution_count": 236,
   "id": "7fda0efe",
   "metadata": {},
   "outputs": [
    {
     "data": {
      "text/plain": [
       "450"
      ]
     },
     "execution_count": 236,
     "metadata": {},
     "output_type": "execute_result"
    }
   ],
   "source": [
    "companies=[]\n",
    "titles=[]\n",
    "jobs=driver.find_elements(By.CLASS_NAME,\"base-search-card__subtitle\")\n",
    "title=driver.find_elements(By.CLASS_NAME,\"base-search-card__title\")\n",
    "for j in range (len(jobs)):\n",
    "    try:\n",
    "        company=jobs[j].text.strip()\n",
    "        t=title[j].text.strip()\n",
    "        companies.append(company)\n",
    "        titles.append(t)\n",
    "    except:\n",
    "        break\n",
    "len(companies)\n",
    "len(titles)"
   ]
  },
  {
   "cell_type": "code",
   "execution_count": 237,
   "id": "791e8176",
   "metadata": {},
   "outputs": [],
   "source": [
    "df=pd.DataFrame({'company':companies,'title':titles})"
   ]
  },
  {
   "cell_type": "code",
   "execution_count": 238,
   "id": "34f5a9da",
   "metadata": {},
   "outputs": [
    {
     "data": {
      "text/html": [
       "<div>\n",
       "<style scoped>\n",
       "    .dataframe tbody tr th:only-of-type {\n",
       "        vertical-align: middle;\n",
       "    }\n",
       "\n",
       "    .dataframe tbody tr th {\n",
       "        vertical-align: top;\n",
       "    }\n",
       "\n",
       "    .dataframe thead th {\n",
       "        text-align: right;\n",
       "    }\n",
       "</style>\n",
       "<table border=\"1\" class=\"dataframe\">\n",
       "  <thead>\n",
       "    <tr style=\"text-align: right;\">\n",
       "      <th></th>\n",
       "      <th>company</th>\n",
       "      <th>title</th>\n",
       "    </tr>\n",
       "  </thead>\n",
       "  <tbody>\n",
       "    <tr>\n",
       "      <th>0</th>\n",
       "      <td>BOX8</td>\n",
       "      <td>Front-end Engineer/Web Developer (SDE 1 &amp;amp; 2)</td>\n",
       "    </tr>\n",
       "    <tr>\n",
       "      <th>1</th>\n",
       "      <td>LinkedIn</td>\n",
       "      <td>Software Engineer - Fullstack</td>\n",
       "    </tr>\n",
       "    <tr>\n",
       "      <th>2</th>\n",
       "      <td>Microsoft</td>\n",
       "      <td>Software Engineer</td>\n",
       "    </tr>\n",
       "    <tr>\n",
       "      <th>3</th>\n",
       "      <td>CRED</td>\n",
       "      <td>Software Engineer</td>\n",
       "    </tr>\n",
       "    <tr>\n",
       "      <th>4</th>\n",
       "      <td>Jar</td>\n",
       "      <td>SDE 1 - Backend</td>\n",
       "    </tr>\n",
       "    <tr>\n",
       "      <th>...</th>\n",
       "      <td>...</td>\n",
       "      <td>...</td>\n",
       "    </tr>\n",
       "    <tr>\n",
       "      <th>445</th>\n",
       "      <td>Siemens Gamesa</td>\n",
       "      <td>Software Developer</td>\n",
       "    </tr>\n",
       "    <tr>\n",
       "      <th>446</th>\n",
       "      <td>Fusemachines</td>\n",
       "      <td>Fullstack Engineer</td>\n",
       "    </tr>\n",
       "    <tr>\n",
       "      <th>447</th>\n",
       "      <td>Vaanam Technologies Pvt Ltd</td>\n",
       "      <td>Software Engineer Intern</td>\n",
       "    </tr>\n",
       "    <tr>\n",
       "      <th>448</th>\n",
       "      <td>Allnessjobs</td>\n",
       "      <td>Full Stack Web Developer</td>\n",
       "    </tr>\n",
       "    <tr>\n",
       "      <th>449</th>\n",
       "      <td>NStarX</td>\n",
       "      <td>Software Engineer</td>\n",
       "    </tr>\n",
       "  </tbody>\n",
       "</table>\n",
       "<p>450 rows × 2 columns</p>\n",
       "</div>"
      ],
      "text/plain": [
       "                         company  \\\n",
       "0                           BOX8   \n",
       "1                       LinkedIn   \n",
       "2                      Microsoft   \n",
       "3                           CRED   \n",
       "4                            Jar   \n",
       "..                           ...   \n",
       "445               Siemens Gamesa   \n",
       "446                 Fusemachines   \n",
       "447  Vaanam Technologies Pvt Ltd   \n",
       "448                  Allnessjobs   \n",
       "449                       NStarX   \n",
       "\n",
       "                                                title  \n",
       "0    Front-end Engineer/Web Developer (SDE 1 &amp; 2)  \n",
       "1                       Software Engineer - Fullstack  \n",
       "2                                   Software Engineer  \n",
       "3                                   Software Engineer  \n",
       "4                                     SDE 1 - Backend  \n",
       "..                                                ...  \n",
       "445                                Software Developer  \n",
       "446                                Fullstack Engineer  \n",
       "447                          Software Engineer Intern  \n",
       "448                          Full Stack Web Developer  \n",
       "449                                 Software Engineer  \n",
       "\n",
       "[450 rows x 2 columns]"
      ]
     },
     "execution_count": 238,
     "metadata": {},
     "output_type": "execute_result"
    }
   ],
   "source": [
    "df"
   ]
  },
  {
   "cell_type": "code",
   "execution_count": 239,
   "id": "a46d4924",
   "metadata": {},
   "outputs": [],
   "source": [
    "df.to_csv('output.csv')"
   ]
  },
  {
   "cell_type": "code",
   "execution_count": null,
   "id": "fdb647e0",
   "metadata": {},
   "outputs": [],
   "source": []
  }
 ],
 "metadata": {
  "kernelspec": {
   "display_name": "Python 3 (ipykernel)",
   "language": "python",
   "name": "python3"
  },
  "language_info": {
   "codemirror_mode": {
    "name": "ipython",
    "version": 3
   },
   "file_extension": ".py",
   "mimetype": "text/x-python",
   "name": "python",
   "nbconvert_exporter": "python",
   "pygments_lexer": "ipython3",
   "version": "3.8.17"
  }
 },
 "nbformat": 4,
 "nbformat_minor": 5
}
